{
 "cells": [
  {
   "cell_type": "markdown",
   "metadata": {},
   "source": [
    "## Lab 2- Tic Tac Toe\n",
    "\n",
    "In this lab your will build a n x n Tic Tac Toe game. As you do the exercises, make sure your solutions work for any size Tic Tac Toe game. "
   ]
  },
  {
   "cell_type": "markdown",
   "metadata": {},
   "source": [
    "*Exercise 1:* Write a function that creates an n by n matrix (of list of lists) which will represent the state of a Tie Tac Toe game. Let 0, 1, and 2 represent empty, \"X\", and \"O\", respectively.\n"
   ]
  },
  {
   "cell_type": "code",
   "execution_count": 3,
   "metadata": {},
   "outputs": [],
   "source": [
    "# Write you solution here\n",
    "def tic_tac_toe_board(n):\n",
    "    return [[0 for i in range(n)] for i in range(n)]\n"
   ]
  },
  {
   "cell_type": "code",
   "execution_count": 4,
   "metadata": {},
   "outputs": [
    {
     "name": "stdout",
     "output_type": "stream",
     "text": [
      "[0, 0, 0]\n",
      "[0, 0, 0]\n",
      "[0, 0, 0]\n"
     ]
    }
   ],
   "source": [
    "# Test your solution here\n",
    "board=tic_tac_toe_board(3)\n",
    "for row in board:\n",
    "    print(row)"
   ]
  },
  {
   "cell_type": "markdown",
   "metadata": {},
   "source": [
    "*Exercise 2:* Write a function that takes 2 integers `n` and `m` as input and draws a `n` by `m` game board. For example the following is a 3x3 board:\n",
    "```\n",
    "   --- --- --- \n",
    "  |   |   |   | \n",
    "   --- --- ---  \n",
    "  |   |   |   | \n",
    "   --- --- ---  \n",
    "  |   |   |   | \n",
    "   --- --- --- \n",
    "   ```"
   ]
  },
  {
   "cell_type": "code",
   "execution_count": 6,
   "metadata": {},
   "outputs": [],
   "source": [
    "# Write you solution here\n",
    "def game_board(n, m):\n",
    "    for i in range(n):\n",
    "        print(\" ---\" * m)\n",
    "        print(\"|   \" * (m + 1))\n",
    "    print(\" ---\" * m)"
   ]
  },
  {
   "cell_type": "code",
   "execution_count": 7,
   "metadata": {},
   "outputs": [
    {
     "name": "stdout",
     "output_type": "stream",
     "text": [
      " --- --- ---\n",
      "|   |   |   |   \n",
      " --- --- ---\n",
      "|   |   |   |   \n",
      " --- --- ---\n",
      "|   |   |   |   \n",
      " --- --- ---\n"
     ]
    }
   ],
   "source": [
    "# Test your solution here\n",
    "game_board(3,3)"
   ]
  },
  {
   "cell_type": "markdown",
   "metadata": {},
   "source": [
    "*Exercise 3:* Modify exercise 2, so that it takes a matrix of the form from exercise 1 and draws a tic-tac-tie board with \"X\"s and \"O\"s.  "
   ]
  },
  {
   "cell_type": "code",
   "execution_count": 9,
   "metadata": {},
   "outputs": [],
   "source": [
    "# Write you solution here\n",
    "def tic_tac_toe_boardx(board):\n",
    "    n = len(board)\n",
    "    symbols={0: \" \", 1: \"X\", 2: \"O\"}\n",
    "\n",
    "    for row in board:\n",
    "        print(\" ---\" * n)\n",
    "        print(\"| \" + \" | \".join(symbols[cell] for cell in row) + \" |\")\n",
    "    print(\" ---\" * n)"
   ]
  },
  {
   "cell_type": "code",
   "execution_count": 10,
   "metadata": {},
   "outputs": [
    {
     "name": "stdout",
     "output_type": "stream",
     "text": [
      " --- --- ---\n",
      "| X |   | O |\n",
      " --- --- ---\n",
      "|   | O | X |\n",
      " --- --- ---\n",
      "| X | X | O |\n",
      " --- --- ---\n"
     ]
    }
   ],
   "source": [
    "# Test your solution here\n",
    "test_board=[[1,0,2], [0,2,1], [1,1,2]]\n",
    "tic_tac_toe_boardx(test_board)"
   ]
  },
  {
   "cell_type": "markdown",
   "metadata": {},
   "source": [
    "*Exercise 4:* Write a function that takes a `n` by `n` matrix representing a tic-tac-toe game, and returns -1, 0, 1, or 2 indicating the game is incomplete, the game is a draw, player 1 has won, or player 2 has one, respectively. Here are some example inputs you can use to test your code:"
   ]
  },
  {
   "cell_type": "code",
   "execution_count": 12,
   "metadata": {},
   "outputs": [],
   "source": [
    "# Write you solution here\n",
    "def tic_tac_toe_game(board):\n",
    "    n=len(board)\n",
    "\n",
    "    for i in range(n):\n",
    "        if all(board[i][j]==1 for j in range(n)) or all(board[j][i]==1 for j in range(n)):\n",
    "            return 1\n",
    "        if all(board[i][j]==2 for j in range(n)) or all(board[j][i]==2 for j in range(n)):\n",
    "            return 2\n",
    "\n",
    "    if all(board[i][i]==1 for i in range(n)) or all(board[i][n-1-i]==1 for i in range(n)):\n",
    "        return 1\n",
    "    if all(board[i][i]==2 for i in range(n)) or all(board[i][n-1-i]==2 for i in range(n)):\n",
    "        return 2\n",
    "\n",
    "    if any(0 in row for row in board):\n",
    "        return -1\n",
    "\n",
    "    return 0"
   ]
  },
  {
   "cell_type": "code",
   "execution_count": 13,
   "metadata": {},
   "outputs": [
    {
     "name": "stdout",
     "output_type": "stream",
     "text": [
      "2\n",
      "1\n",
      "1\n",
      "-1\n",
      "-1\n",
      "0\n"
     ]
    }
   ],
   "source": [
    "# Test your solution here\n",
    "winner_is_2=[[2,2,0], [2,1,0], [2,1,1]]\n",
    "winner_is_1=[[1,1,1], [2,2,0], [2,1,2]]\n",
    "winner_is_also1=[[0,1,0], [2,1,0], [2,1,2]]\n",
    "no_winner=[[1,2,0], [2,1,0], [2,1,2]]\n",
    "also_no_winner=[[1,2,0], [2,1,0], [2,1,0]]\n",
    "draw_board = [[1, 2, 1], [2, 1, 2], [2, 1, 2]]\n",
    "\n",
    "print(tic_tac_toe_game(winner_is_2))\n",
    "print(tic_tac_toe_game(winner_is_1))\n",
    "print(tic_tac_toe_game(winner_is_also1))\n",
    "print(tic_tac_toe_game(no_winner))\n",
    "print(tic_tac_toe_game(also_no_winner))\n",
    "print(tic_tac_toe_game(draw_board))"
   ]
  },
  {
   "cell_type": "code",
   "execution_count": 14,
   "metadata": {},
   "outputs": [],
   "source": [
    "winner_is_2 = [[2, 2, 0],\n",
    "\t[2, 1, 0],\n",
    "\t[2, 1, 1]]\n",
    "\n",
    "winner_is_1 = [[1, 2, 0],\n",
    "\t[2, 1, 0],\n",
    "\t[2, 1, 1]]\n",
    "\n",
    "winner_is_also_1 = [[0, 1, 0],\n",
    "\t[2, 1, 0],\n",
    "\t[2, 1, 1]]\n",
    "\n",
    "no_winner = [[1, 2, 0],\n",
    "\t[2, 1, 0],\n",
    "\t[2, 1, 2]]\n",
    "\n",
    "also_no_winner = [[1, 2, 0],\n",
    "\t[2, 1, 0],\n",
    "\t[2, 1, 0]]"
   ]
  },
  {
   "cell_type": "markdown",
   "metadata": {},
   "source": [
    "*Exercise 5:* Write a function that takes a game board, player number, and `(x,y)` coordinates and places \"X\" or \"O\" in the correct location of the game board. Make sure that you only allow filling previously empty locations. Return `True` or `False` to indicate successful placement of \"X\" or \"O\"."
   ]
  },
  {
   "cell_type": "code",
   "execution_count": 63,
   "metadata": {},
   "outputs": [],
   "source": [
    "# Write you solution here\n",
    "def place_move(board, player, row, col):\n",
    "    if board[row][col]==0:\n",
    "        board[row][col]=player\n",
    "        return True\n",
    "    return False"
   ]
  },
  {
   "cell_type": "code",
   "execution_count": 67,
   "metadata": {},
   "outputs": [
    {
     "name": "stdout",
     "output_type": "stream",
     "text": [
      "True\n",
      "False\n",
      " --- --- ---\n",
      "| X |   |   |\n",
      " --- --- ---\n",
      "|   |   |   |\n",
      " --- --- ---\n",
      "|   |   |   |\n",
      " --- --- ---\n"
     ]
    }
   ],
   "source": [
    "# Test your solution here\n",
    "board=tic_tac_toe_board(3)\n",
    "print(place_move(board, 1, 0, 0))\n",
    "print(place_move(board, 2, 0, 0))\n",
    "tic_tac_toe_boardx(board)"
   ]
  },
  {
   "cell_type": "markdown",
   "metadata": {},
   "source": [
    "*Exercise 6:* Modify Exercise 3 to show column and row labels so that players can specify location using \"A2\" or \"C1\"."
   ]
  },
  {
   "cell_type": "code",
   "execution_count": 19,
   "metadata": {},
   "outputs": [],
   "source": [
    "# Write you solution here\n",
    "def board_with_labels(board):\n",
    "    n = len(board)\n",
    "    print(\"   \" + \"   \".join(chr(65 + i) for i in range(n)))\n",
    "    symbols = {0: \" \", 1: \"X\", 2: \"O\"}\n",
    "\n",
    "    for i, row in enumerate(board):\n",
    "        print(\"  \" + \"----\" * n)\n",
    "        print(str(i + 1) + \" | \" + \" | \".join(symbols[cell] for cell in row) + \" |\")\n",
    "    print(\"  \" + \"----\" * n)\n"
   ]
  },
  {
   "cell_type": "code",
   "execution_count": 20,
   "metadata": {},
   "outputs": [
    {
     "name": "stdout",
     "output_type": "stream",
     "text": [
      "   A   B   C\n",
      "  ------------\n",
      "1 | X |   | O |\n",
      "  ------------\n",
      "2 |   | O | X |\n",
      "  ------------\n",
      "3 | X | X | O |\n",
      "  ------------\n"
     ]
    }
   ],
   "source": [
    "# Test your solution here\n",
    "test = [[1, 0, 2], [0, 2, 1], [1, 1, 2]]\n",
    "board_with_labels(test)"
   ]
  },
  {
   "cell_type": "markdown",
   "metadata": {},
   "source": [
    "*Exercise 7:* Write a function that takes a board, player number, and location specified as in exercise 6 and then calls exercise 5 to correctly modify the board.  "
   ]
  },
  {
   "cell_type": "code",
   "execution_count": 85,
   "metadata": {},
   "outputs": [],
   "source": [
    "# Write you solution here\n",
    "\n",
    "def modified_board(label, board_size):\n",
    "    label = label.strip().upper() \n",
    "    \n",
    "    if len(label) < 2 or not label[0].isalpha() or not label[1:].isdigit():\n",
    "        return None \n",
    "\n",
    "    col = ord(label[0]) - 65  \n",
    "    row = int(label[1:]) - 1\n",
    "\n",
    "    if 0 <= row < board_size and 0 <= col < board_size:\n",
    "        return row, col \n",
    "    return None  \n"
   ]
  },
  {
   "cell_type": "code",
   "execution_count": 89,
   "metadata": {},
   "outputs": [
    {
     "name": "stdout",
     "output_type": "stream",
     "text": [
      "(1, 0)\n",
      "(0, 1)\n",
      "None\n",
      "None\n",
      "None\n"
     ]
    }
   ],
   "source": [
    "# Test your solution \n",
    "board_size = 3 \n",
    "\n",
    "print(modified_board(\"A2\", board_size)) \n",
    "print(modified_board(\"B1\", board_size))  \n",
    "print(modified_board(\"D4\", board_size))  \n",
    "print(modified_board(\"AA2\", board_size))\n",
    "print(modified_board(\"B 1\", board_size))\n"
   ]
  },
  {
   "cell_type": "markdown",
   "metadata": {},
   "source": [
    "*Exercise 8:* Write a function is called with a board and player number, takes input from the player using python's `input`, and modifies the board using your function from exercise 7. Note that you should keep asking for input until you have gotten a valid input that results in a valid move."
   ]
  },
  {
   "cell_type": "code",
   "execution_count": 91,
   "metadata": {},
   "outputs": [],
   "source": [
    "# Write you solution here\n",
    "def player_moves(board, player):\n",
    "    board_size = len(board)\n",
    "    \n",
    "    while True:\n",
    "        move = input(f\"Player {player}, enter your move: \").strip().upper()\n",
    "\n",
    "        coordinates = modified_board(move, board_size)\n",
    "        if coordinates:\n",
    "            row, col = coordinates\n",
    "            if place_move(board, player, row, col):\n",
    "                return\n",
    "            else:\n",
    "                print(\"That space is already occupied. Try again.\")\n",
    "        else:\n",
    "            print(\"Invalid move. Try again.\")\n"
   ]
  },
  {
   "cell_type": "code",
   "execution_count": 93,
   "metadata": {},
   "outputs": [
    {
     "name": "stdin",
     "output_type": "stream",
     "text": [
      "Player 1, enter your move:  B 1\n"
     ]
    },
    {
     "name": "stdout",
     "output_type": "stream",
     "text": [
      "Invalid move. Try again.\n"
     ]
    },
    {
     "name": "stdin",
     "output_type": "stream",
     "text": [
      "Player 1, enter your move:  Z10\n"
     ]
    },
    {
     "name": "stdout",
     "output_type": "stream",
     "text": [
      "Invalid move. Try again.\n"
     ]
    },
    {
     "name": "stdin",
     "output_type": "stream",
     "text": [
      "Player 1, enter your move:  AA2\n"
     ]
    },
    {
     "name": "stdout",
     "output_type": "stream",
     "text": [
      "Invalid move. Try again.\n"
     ]
    },
    {
     "name": "stdin",
     "output_type": "stream",
     "text": [
      "Player 1, enter your move:  A5\n"
     ]
    },
    {
     "name": "stdout",
     "output_type": "stream",
     "text": [
      "Invalid move. Try again.\n"
     ]
    },
    {
     "name": "stdin",
     "output_type": "stream",
     "text": [
      "Player 1, enter your move:  B2\n"
     ]
    },
    {
     "name": "stdout",
     "output_type": "stream",
     "text": [
      "   A   B   C\n",
      "  ------------\n",
      "1 |   |   |   |\n",
      "  ------------\n",
      "2 |   | X |   |\n",
      "  ------------\n",
      "3 |   |   |   |\n",
      "  ------------\n"
     ]
    }
   ],
   "source": [
    "# Test your solution here\n",
    "board=tic_tac_toe_board(3)\n",
    "player_moves(board, 1)\n",
    "board_with_labels(board)"
   ]
  },
  {
   "cell_type": "markdown",
   "metadata": {},
   "source": [
    "*Exercise 9:* Use all of the previous exercises to implement a full tic-tac-toe game, where an appropriate board is drawn, 2 players are repeatedly asked for a location coordinates of where they wish to place a mark, and the game status is checked until a player wins or a draw occurs."
   ]
  },
  {
   "cell_type": "code",
   "execution_count": 95,
   "metadata": {},
   "outputs": [],
   "source": [
    "# Write you solution here\n",
    "def play_tic_tac_toe(n):\n",
    "    board=tic_tac_toe_board(n)\n",
    "    player=1\n",
    "\n",
    "    while True:\n",
    "        board_with_labels(board)\n",
    "        player_moves(board, player)\n",
    "        winner=tic_tac_toe_game(board)\n",
    "\n",
    "        if winner !=-1:\n",
    "            board_with_labels(board)\n",
    "            print(\"Player X wins!\" if winner==1 else \"Player O wins!\" if winner==2 else \"It's a Draw!\")\n",
    "            break\n",
    "\n",
    "        player=3-player"
   ]
  },
  {
   "cell_type": "code",
   "execution_count": 97,
   "metadata": {},
   "outputs": [
    {
     "name": "stdout",
     "output_type": "stream",
     "text": [
      "   A   B   C\n",
      "  ------------\n",
      "1 |   |   |   |\n",
      "  ------------\n",
      "2 |   |   |   |\n",
      "  ------------\n",
      "3 |   |   |   |\n",
      "  ------------\n"
     ]
    },
    {
     "name": "stdin",
     "output_type": "stream",
     "text": [
      "Player 1, enter your move:  A1\n"
     ]
    },
    {
     "name": "stdout",
     "output_type": "stream",
     "text": [
      "   A   B   C\n",
      "  ------------\n",
      "1 | X |   |   |\n",
      "  ------------\n",
      "2 |   |   |   |\n",
      "  ------------\n",
      "3 |   |   |   |\n",
      "  ------------\n"
     ]
    },
    {
     "name": "stdin",
     "output_type": "stream",
     "text": [
      "Player 2, enter your move:  A3\n"
     ]
    },
    {
     "name": "stdout",
     "output_type": "stream",
     "text": [
      "   A   B   C\n",
      "  ------------\n",
      "1 | X |   |   |\n",
      "  ------------\n",
      "2 |   |   |   |\n",
      "  ------------\n",
      "3 | O |   |   |\n",
      "  ------------\n"
     ]
    },
    {
     "name": "stdin",
     "output_type": "stream",
     "text": [
      "Player 1, enter your move:  A3\n"
     ]
    },
    {
     "name": "stdout",
     "output_type": "stream",
     "text": [
      "That space is already occupied. Try again.\n"
     ]
    },
    {
     "name": "stdin",
     "output_type": "stream",
     "text": [
      "Player 1, enter your move:  B1\n"
     ]
    },
    {
     "name": "stdout",
     "output_type": "stream",
     "text": [
      "   A   B   C\n",
      "  ------------\n",
      "1 | X | X |   |\n",
      "  ------------\n",
      "2 |   |   |   |\n",
      "  ------------\n",
      "3 | O |   |   |\n",
      "  ------------\n"
     ]
    },
    {
     "name": "stdin",
     "output_type": "stream",
     "text": [
      "Player 2, enter your move:  C1\n"
     ]
    },
    {
     "name": "stdout",
     "output_type": "stream",
     "text": [
      "   A   B   C\n",
      "  ------------\n",
      "1 | X | X | O |\n",
      "  ------------\n",
      "2 |   |   |   |\n",
      "  ------------\n",
      "3 | O |   |   |\n",
      "  ------------\n"
     ]
    },
    {
     "name": "stdin",
     "output_type": "stream",
     "text": [
      "Player 1, enter your move:  C3\n"
     ]
    },
    {
     "name": "stdout",
     "output_type": "stream",
     "text": [
      "   A   B   C\n",
      "  ------------\n",
      "1 | X | X | O |\n",
      "  ------------\n",
      "2 |   |   |   |\n",
      "  ------------\n",
      "3 | O |   | X |\n",
      "  ------------\n"
     ]
    },
    {
     "name": "stdin",
     "output_type": "stream",
     "text": [
      "Player 2, enter your move:  B2\n"
     ]
    },
    {
     "name": "stdout",
     "output_type": "stream",
     "text": [
      "   A   B   C\n",
      "  ------------\n",
      "1 | X | X | O |\n",
      "  ------------\n",
      "2 |   | O |   |\n",
      "  ------------\n",
      "3 | O |   | X |\n",
      "  ------------\n",
      "Player O wins!\n"
     ]
    }
   ],
   "source": [
    "# Test your solution here\n",
    "play_tic_tac_toe(3)"
   ]
  },
  {
   "cell_type": "markdown",
   "metadata": {},
   "source": [
    "*Exercise 10:* Test that your game works for 5x5 Tic Tac Toe.  "
   ]
  },
  {
   "cell_type": "code",
   "execution_count": 99,
   "metadata": {},
   "outputs": [
    {
     "name": "stdout",
     "output_type": "stream",
     "text": [
      "   A   B   C   D   E\n",
      "  --------------------\n",
      "1 |   |   |   |   |   |\n",
      "  --------------------\n",
      "2 |   |   |   |   |   |\n",
      "  --------------------\n",
      "3 |   |   |   |   |   |\n",
      "  --------------------\n",
      "4 |   |   |   |   |   |\n",
      "  --------------------\n",
      "5 |   |   |   |   |   |\n",
      "  --------------------\n"
     ]
    },
    {
     "name": "stdin",
     "output_type": "stream",
     "text": [
      "Player 1, enter your move:  A1\n"
     ]
    },
    {
     "name": "stdout",
     "output_type": "stream",
     "text": [
      "   A   B   C   D   E\n",
      "  --------------------\n",
      "1 | X |   |   |   |   |\n",
      "  --------------------\n",
      "2 |   |   |   |   |   |\n",
      "  --------------------\n",
      "3 |   |   |   |   |   |\n",
      "  --------------------\n",
      "4 |   |   |   |   |   |\n",
      "  --------------------\n",
      "5 |   |   |   |   |   |\n",
      "  --------------------\n"
     ]
    },
    {
     "name": "stdin",
     "output_type": "stream",
     "text": [
      "Player 2, enter your move:  E1\n"
     ]
    },
    {
     "name": "stdout",
     "output_type": "stream",
     "text": [
      "   A   B   C   D   E\n",
      "  --------------------\n",
      "1 | X |   |   |   | O |\n",
      "  --------------------\n",
      "2 |   |   |   |   |   |\n",
      "  --------------------\n",
      "3 |   |   |   |   |   |\n",
      "  --------------------\n",
      "4 |   |   |   |   |   |\n",
      "  --------------------\n",
      "5 |   |   |   |   |   |\n",
      "  --------------------\n"
     ]
    },
    {
     "name": "stdin",
     "output_type": "stream",
     "text": [
      "Player 1, enter your move:  B2\n"
     ]
    },
    {
     "name": "stdout",
     "output_type": "stream",
     "text": [
      "   A   B   C   D   E\n",
      "  --------------------\n",
      "1 | X |   |   |   | O |\n",
      "  --------------------\n",
      "2 |   | X |   |   |   |\n",
      "  --------------------\n",
      "3 |   |   |   |   |   |\n",
      "  --------------------\n",
      "4 |   |   |   |   |   |\n",
      "  --------------------\n",
      "5 |   |   |   |   |   |\n",
      "  --------------------\n"
     ]
    },
    {
     "name": "stdin",
     "output_type": "stream",
     "text": [
      "Player 2, enter your move:  E2\n"
     ]
    },
    {
     "name": "stdout",
     "output_type": "stream",
     "text": [
      "   A   B   C   D   E\n",
      "  --------------------\n",
      "1 | X |   |   |   | O |\n",
      "  --------------------\n",
      "2 |   | X |   |   | O |\n",
      "  --------------------\n",
      "3 |   |   |   |   |   |\n",
      "  --------------------\n",
      "4 |   |   |   |   |   |\n",
      "  --------------------\n",
      "5 |   |   |   |   |   |\n",
      "  --------------------\n"
     ]
    },
    {
     "name": "stdin",
     "output_type": "stream",
     "text": [
      "Player 1, enter your move:  C3\n"
     ]
    },
    {
     "name": "stdout",
     "output_type": "stream",
     "text": [
      "   A   B   C   D   E\n",
      "  --------------------\n",
      "1 | X |   |   |   | O |\n",
      "  --------------------\n",
      "2 |   | X |   |   | O |\n",
      "  --------------------\n",
      "3 |   |   | X |   |   |\n",
      "  --------------------\n",
      "4 |   |   |   |   |   |\n",
      "  --------------------\n",
      "5 |   |   |   |   |   |\n",
      "  --------------------\n"
     ]
    },
    {
     "name": "stdin",
     "output_type": "stream",
     "text": [
      "Player 2, enter your move:  E3\n"
     ]
    },
    {
     "name": "stdout",
     "output_type": "stream",
     "text": [
      "   A   B   C   D   E\n",
      "  --------------------\n",
      "1 | X |   |   |   | O |\n",
      "  --------------------\n",
      "2 |   | X |   |   | O |\n",
      "  --------------------\n",
      "3 |   |   | X |   | O |\n",
      "  --------------------\n",
      "4 |   |   |   |   |   |\n",
      "  --------------------\n",
      "5 |   |   |   |   |   |\n",
      "  --------------------\n"
     ]
    },
    {
     "name": "stdin",
     "output_type": "stream",
     "text": [
      "Player 1, enter your move:  D4\n"
     ]
    },
    {
     "name": "stdout",
     "output_type": "stream",
     "text": [
      "   A   B   C   D   E\n",
      "  --------------------\n",
      "1 | X |   |   |   | O |\n",
      "  --------------------\n",
      "2 |   | X |   |   | O |\n",
      "  --------------------\n",
      "3 |   |   | X |   | O |\n",
      "  --------------------\n",
      "4 |   |   |   | X |   |\n",
      "  --------------------\n",
      "5 |   |   |   |   |   |\n",
      "  --------------------\n"
     ]
    },
    {
     "name": "stdin",
     "output_type": "stream",
     "text": [
      "Player 2, enter your move:  A5\n"
     ]
    },
    {
     "name": "stdout",
     "output_type": "stream",
     "text": [
      "   A   B   C   D   E\n",
      "  --------------------\n",
      "1 | X |   |   |   | O |\n",
      "  --------------------\n",
      "2 |   | X |   |   | O |\n",
      "  --------------------\n",
      "3 |   |   | X |   | O |\n",
      "  --------------------\n",
      "4 |   |   |   | X |   |\n",
      "  --------------------\n",
      "5 | O |   |   |   |   |\n",
      "  --------------------\n"
     ]
    },
    {
     "name": "stdin",
     "output_type": "stream",
     "text": [
      "Player 1, enter your move:  E5\n"
     ]
    },
    {
     "name": "stdout",
     "output_type": "stream",
     "text": [
      "   A   B   C   D   E\n",
      "  --------------------\n",
      "1 | X |   |   |   | O |\n",
      "  --------------------\n",
      "2 |   | X |   |   | O |\n",
      "  --------------------\n",
      "3 |   |   | X |   | O |\n",
      "  --------------------\n",
      "4 |   |   |   | X |   |\n",
      "  --------------------\n",
      "5 | O |   |   |   | X |\n",
      "  --------------------\n",
      "Player X wins!\n"
     ]
    }
   ],
   "source": [
    "# Test your solution here\n",
    "play_tic_tac_toe(5)"
   ]
  },
  {
   "cell_type": "markdown",
   "metadata": {},
   "source": [
    "*Exercise 11:* (Advanced / Challenge) Develop a version of the game where one player is the computer. Note that you don't need to do an extensive seach for the best move. You can have the computer simply protect against loosing and otherwise try to win with straight or diagonal patterns."
   ]
  },
  {
   "cell_type": "code",
   "execution_count": null,
   "metadata": {},
   "outputs": [],
   "source": [
    "# Write you solution here"
   ]
  },
  {
   "cell_type": "code",
   "execution_count": null,
   "metadata": {},
   "outputs": [],
   "source": [
    "# Test your solution here"
   ]
  }
 ],
 "metadata": {
  "kernelspec": {
   "display_name": "Python [conda env:base] *",
   "language": "python",
   "name": "conda-base-py"
  },
  "language_info": {
   "codemirror_mode": {
    "name": "ipython",
    "version": 3
   },
   "file_extension": ".py",
   "mimetype": "text/x-python",
   "name": "python",
   "nbconvert_exporter": "python",
   "pygments_lexer": "ipython3",
   "version": "3.12.7"
  }
 },
 "nbformat": 4,
 "nbformat_minor": 4
}
