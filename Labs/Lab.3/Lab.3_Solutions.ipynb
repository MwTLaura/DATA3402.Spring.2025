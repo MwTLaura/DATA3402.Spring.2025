{
 "cells": [
  {
   "cell_type": "markdown",
   "metadata": {
    "jupyter": {
     "source_hidden": true
    }
   },
   "source": [
    "# Lab 3\n",
    "\n",
    "In this lab we will become familiar with distributions, histograms, and functional programming. Do not use numpy or any other library for this lab.\n",
    "\n",
    "Before that, lets get setup homework submission and submit your previous lab.  \n",
    "\n",
    "## Working on the Command-line.\n",
    "\n",
    "It is important for you to learn to work on the command line and to be familiar with the Unix environment (e.g. Linux, Mac OS, or Windows Linux Subsystem). We'll go over working on the command-line in detail later in the course.\n",
    "\n",
    "You are required to submit your work in this course via GitHub. Today in class, you will setup everything on the command-line.\n",
    "\n",
    "### Command-line basics\n",
    "\n",
    "There is plenty of material online that will help you figure out how to do various tasks on the command line. Commands you may need to know today:\n",
    "\n",
    "* `ls`: lists the contents of the current directory.\n",
    "* `pwd`: prints the path of the current directory.\n",
    "* `cd <directory>`: changes your current directory to the specified directory.\n",
    "* `cd ..`: changes current directory to the previous directory. Basically steps out of the current directory to the directory containing the current directory.\n",
    "* `mkdir <directory>`: create a new directory with the specified name.\n",
    "* `rmdir <directory>`: removes the specified directory. Note it has to be empty.\n",
    "* `rm <filename>`: deletes the specified file.\n",
    "* `mv <filename 1> <filename 2>`: Moves or renames a file.\n",
    "* `cp <filename 1> <filename 2>`: copies an file. If you just provide a path to a directory, it copies the file into that directory with the same filename. If you specifiy a new filename, the copy has a new name. For example `cp File.1.txt File.2.txt` creates a copy of `File.1.txt` with the name `File.2.txt`. Meanwhile `cp File.1.txt my_directory`, where `my_directory` is a directory, creates a copy of `File.1.txt` in directory `my_directory` with the name `File.1.txt`.\n",
    "\n",
    "For reference, here are some example resources I found by googling:\n",
    "\n",
    "* Paths and Wildcards: https://www.warp.dev/terminus/linux-wildcards\n",
    "* Basic commands like copy: https://kb.iu.edu/d/afsk\n",
    "* General introduction to shell: https://github-pages.ucl.ac.uk/RCPSTrainingMaterials/HPCandHTCusingLegion/2_intro_to_shell.html\n",
    "* Manual pages: https://www.geeksforgeeks.org/linux-man-page-entries-different-types/?ref=ml_lbp\n",
    "* Chaining commands: https://www.geeksforgeeks.org/chaining-commands-in-linux/?ref=ml_lbp\n",
    "* Piping: https://www.geeksforgeeks.org/piping-in-unix-or-linux/\n",
    "* Using sed: https://www.geeksforgeeks.org/sed-command-linux-set-2/?ref=ml_lbp\n",
    "* Various Unix commands: https://www.geeksforgeeks.org/linux-commands/?ref=lbp\n",
    "* Cheat sheets:\n",
    "    * https://www.stationx.net/unix-commands-cheat-sheet/\n",
    "    * https://cheatography.com/davechild/cheat-sheets/linux-command-line/\n",
    "    * https://www.theknowledgeacademy.com/blog/unix-commands-cheat-sheet/\n",
    "    \n",
    "These aren't necessarily the best resources. Feel free to search for better ones. Also, don't forget that Unix has built-in manual pages for all of its commands. Just type `man <command>` at the command prompt. Use the space-bar to scroll through the documentation and \"q\" to exit.\n",
    "\n",
    "\n",
    "### Setup and Submission\n",
    "\n",
    "Our course repository is public. The instructions here aim to have you setup a fork of the course repository. Unfortunately because you are forking a public repo, your fork will have to be public also. \n",
    "\n",
    "You should be familiar with git from the first semester of this course. I assume that you all have github accounts and have setup things to be able to [push to github using ssh](https://docs.github.com/en/github/authenticating-to-github/connecting-to-github-with-ssh). The instuctions here lead you to:\n",
    "\n",
    "We'll overview what you will do before going through step by step instructions.\n",
    "\n",
    "1. Setup:\n",
    "    1. Fork the class repository. Some directions in [fork-a-repo](https://docs.github.com/en/github/getting-started-with-github/fork-a-repo).\n",
    "    1. Create a directory on your personal system where you will keep all course materials.\n",
    "    1. In that directory, clone your fork of the repository.\n",
    "    1. Using `git remote`, set the upstream to be the class repo, so you can pull from the class and push to your fork.\n",
    "\n",
    "1. Submission:\n",
    "    1. Copy your solutions into the appropriate directory (e.g. into `Labs/Lab.2/`) and with appropriate filename `Lab.2.solution.ipynb'.\n",
    "    1. Commit / push your solutions.\n",
    " \n",
    "Below are step by step instructions with examples (including example directory naming convention). Feel free to modify things as you see fit. \n",
    "\n",
    "#### Setup\n",
    "You should only need to follow this instructions once. Here are some useful git commands:\n",
    "\n",
    "* Git help: `git help`\n",
    "* Git remote help: `git help remote`\n",
    "* Check remote status: `git remote -v`\n",
    "* Add a remote: `git remote add <stream name> <repo URL>`\n",
    "* Add a remove: `git remote remove <stream name>`\n",
    "\n",
    "Steps:\n",
    "1. In a browser, log into GitHub and navigate to the [course repository](https://github.com/UTA-DataScience/DATA3402.Spring.2025).\n",
    "1. On the top right of the page, press the fork button to create a new fork into your own GitHub account.\n",
    "1. After successful fork, you should find the browser showing your fork of the course repository. Use the green \"Code\" button to copy path to the repo into your the clipboard of your computer.\n",
    "1. Open a shell on your personal computer.\n",
    "1. If you have not done so already, create a new directory/folder where you will keep all course material to navigate to it. For example: `mkdir Data-3402` and `cd Data-3402`.\n",
    "1. Clone your fork of the repository using `git clone` followed by the path you copied into your clipboard. (copy/paste)\n",
    "1. Paste the URL to your fork in the worksheet for the TAs and instructors.\n",
    "1. Now go into the directory of your clone (`cd DATA3402.Spring.2025`).\n",
    "1. Type `git remote -v` to see the current setup for fetch and pull.\n",
    "1. Note the URL you see. This should be the same as what you used for your clone for both push and fetch.\n",
    "1. Delete the origin remote using `git remote remove origin`.\n",
    "1. Add the course repo as your remote using `git remote add origin https://github.com/UTA-DataScience/DATA3402.Spring.2025.git`.\n",
    "1. Change the push to point to your fork. This means you will need the URL to your clone we copied earlier and confirmed as the original origin. The command will look something like: `git remote set-url --push origin  https://github.com/XXXXXX/DATA3402.Spring.2025.git`, where XXXXX is your username on GitHub.\n",
    "1. Note that if you setup everything correctly, you now should be able to do `git pull` to get updates from the course repo, and do `git push` to push your commits into your own fork.\n",
    "\n",
    "### Submission\n",
    "These instructions outline how you submit files. Some useful commands:\n",
    "* To add a file to local repository: `git add <file>`.\n",
    "* To commit all changed files into local repository: `git -a -m \"A message\"`. You need to provide some comment when you commit. \n",
    "* To push the commited files from the local repository to GitHub: `git push`.\n",
    "* To get updates from GitHub: `git pull`.\n",
    "\n",
    "Steps:\n",
    "1. To submit your labs, navigate to your clone of your fork of the course repository. \n",
    "1. Use `git pull` to make sure you have the latest updates. \n",
    "1. Make sure your copy of the lab your are working on is in the appropriate place in this clone. That means if you have the file elsewhere, copy it to the same directory in your clone of your fork. \n",
    "1. Note that in order to avoid future conflicts, you should always name your solution differently than the original file in the class repo. For example if your file is still named `Lab.2.ipynb` you should rename it using the `mv` command: `mv Lab.2.ipynb Lab.2.solution.ipynb`. \n",
    "1. Add and files you wish to submit into the repo. For example: `git add Labs/Lab.2/Lab.2.solution.ipynb`\n",
    "1. Commit any changes: `git commit -a -m \"Lab 2 updates\"`\n",
    "1. Push your changes: `git push`\n",
    "1. Check on github website that your solutions have been properly submitted.\n",
    "\n",
    "Before you leave the session today, make sure your GitHub Repo is setup. If you need to work further on your lab, navigate jupyter to the copy of the lab you just submitted and work there. Once done, repeat the commit and push commands to submit your updated solution. Note that lab 2 is due by midnight Friay 1/31/2025.\n"
   ]
  },
  {
   "cell_type": "markdown",
   "metadata": {},
   "source": [
    "### Uniform Distribution\n",
    "Lets start with generating some fake random data. You can get a random number between 0 and 1 using the python random module as follow:"
   ]
  },
  {
   "cell_type": "code",
   "execution_count": 1,
   "metadata": {},
   "outputs": [
    {
     "name": "stdout",
     "output_type": "stream",
     "text": [
      "The Value of x is 0.6901901477229814\n"
     ]
    }
   ],
   "source": [
    "import random\n",
    "x=random.random()\n",
    "print(\"The Value of x is\", x)"
   ]
  },
  {
   "cell_type": "markdown",
   "metadata": {},
   "source": [
    "Everytime you call random, you will get a new number.\n",
    "\n",
    "*Exercise 1:* Using random, write a function `generate_uniform(N, mymin, mymax)`, that returns a python list containing N random numbers between specified minimum and maximum value. Note that you may want to quickly work out on paper how to turn numbers between 0 and 1 to between other values. "
   ]
  },
  {
   "cell_type": "code",
   "execution_count": 3,
   "metadata": {},
   "outputs": [],
   "source": [
    "# Skeleton\n",
    "def generate_uniform(N,x_min,x_max):\n",
    "    out = []\n",
    "    ### BEGIN SOLUTION\n",
    "    for i in range(N):\n",
    "        out.append(random.random() * (x_max - x_min) + x_min)\n",
    "    \n",
    "    \n",
    "    ### END SOLUTION\n",
    "    return out"
   ]
  },
  {
   "cell_type": "code",
   "execution_count": 5,
   "metadata": {},
   "outputs": [
    {
     "name": "stdout",
     "output_type": "stream",
     "text": [
      "Data Type: <class 'list'>\n",
      "Data Length: 1000\n",
      "Type of Data Contents: <class 'float'>\n",
      "Data Minimum: -9.99388464762368\n",
      "Data Maximum: 9.988909047470184\n"
     ]
    }
   ],
   "source": [
    "# Test your solution here\n",
    "data=generate_uniform(1000,-10,10)\n",
    "print (\"Data Type:\", type(data))\n",
    "print (\"Data Length:\", len(data))\n",
    "if len(data)>0: \n",
    "    print (\"Type of Data Contents:\", type(data[0]))\n",
    "    print (\"Data Minimum:\", min(data))\n",
    "    print (\"Data Maximum:\", max(data))"
   ]
  },
  {
   "cell_type": "markdown",
   "metadata": {},
   "source": [
    "*Exercise 2a:* \n",
    "Write a function that computes the mean of values in a list. Recall the equation for the mean of a random variable $\\bf{x}$ computed on a data set of $n$ values $\\{ x_i \\} = \\{x_1, x_2, ..., x_n\\}$  is ${\\bf\\bar{x}} = \\frac{1}{n} \\sum_i^n x_i$."
   ]
  },
  {
   "cell_type": "code",
   "execution_count": 7,
   "metadata": {},
   "outputs": [],
   "source": [
    "# Skeleton\n",
    "def mean(Data):\n",
    "    m=0.\n",
    "    \n",
    "    ### BEGIN SOLUTION\n",
    "    \n",
    "    m = sum(Data)/len(Data)\n",
    "    \n",
    "    ### END SOLUTION\n",
    "    \n",
    "    return m"
   ]
  },
  {
   "cell_type": "code",
   "execution_count": 9,
   "metadata": {},
   "outputs": [
    {
     "name": "stdout",
     "output_type": "stream",
     "text": [
      "Mean of Data: -0.01391256685289065\n"
     ]
    }
   ],
   "source": [
    "# Test your solution here\n",
    "print (\"Mean of Data:\", mean(data))"
   ]
  },
  {
   "cell_type": "markdown",
   "metadata": {},
   "source": [
    "*Exercise 2b:* \n",
    "Write a function that computes the variance of values in a list. Recall the equation for the variance of a random variable $\\bf{x}$ computed on a data set of $n$ values $\\{ x_i \\} = \\{x_1, x_2, ..., x_n\\}$  is ${\\bf\\langle x \\rangle} = \\frac{1}{n} \\sum_i^n (x_i - {\\bf\\bar{x}})$."
   ]
  },
  {
   "cell_type": "code",
   "execution_count": 11,
   "metadata": {},
   "outputs": [],
   "source": [
    "# Skeleton\n",
    "def variance(Data):\n",
    "    m=0.\n",
    "    \n",
    "    ### BEGIN SOLUTION\n",
    "    mean_value=mean(Data)\n",
    "    m = sum(x - mean_value for x in Data) / len(Data)\n",
    "           \n",
    "    \n",
    "    ### END SOLUTION\n",
    "    \n",
    "    return m"
   ]
  },
  {
   "cell_type": "code",
   "execution_count": 13,
   "metadata": {},
   "outputs": [
    {
     "name": "stdout",
     "output_type": "stream",
     "text": [
      "Variance of Data: 2.5262777980650243e-17\n"
     ]
    }
   ],
   "source": [
    "# Test your solution here\n",
    "print (\"Variance of Data:\", variance(data))"
   ]
  },
  {
   "cell_type": "markdown",
   "metadata": {},
   "source": [
    "## Histogramming"
   ]
  },
  {
   "cell_type": "markdown",
   "metadata": {},
   "source": [
    "*Exercise 3:* Write a function that bins the data so that you can create a histogram. An example of how to implement histogramming is the following logic:\n",
    "\n",
    "* User inputs a list of values `x` and optionally `n_bins` which defaults to 10.\n",
    "* If not supplied, find the minimum and maximum (`x_min`,`x_max`) of the values in x.\n",
    "* Determine the bin size (`bin_size`) by dividing the range of the function by the number of bins.\n",
    "* Create an empty list of zeros of size `n_bins`, call it `hist`.\n",
    "* Loop over the values in `x`\n",
    "    * Loop over the values in `hist` with index `i`:\n",
    "        * If x is between `x_min+i*bin_size` and `x_min+(i+1)*bin_size`, increment `hist[i].` \n",
    "        * For efficiency, try to use continue to goto the next bin and data point.\n",
    "* Return `hist` and the list corresponding of the bin edges (i.e. of `x_min+i*bin_size`).    "
   ]
  },
  {
   "cell_type": "code",
   "execution_count": 15,
   "metadata": {},
   "outputs": [],
   "source": [
    "# Solution\n",
    "def histogram(x,n_bins=10,x_min=None,x_max=None):\n",
    "    ### BEGIN SOLUTION\n",
    "    if x_min is None:\n",
    "        x_min = min(x)\n",
    "    if x_max is None:\n",
    "        x_max = max(x)\n",
    "\n",
    "    bin_size = (x_max - x_min) / n_bins\n",
    "\n",
    "    hist = [0] * n_bins\n",
    "    bin_edges = [x_min + i * bin_size for i in range(n_bins + 1)]\n",
    "\n",
    "    for value in x:\n",
    "        for i in range(n_bins):\n",
    "            if x_min + i * bin_size <= value < x_min + (i + 1) * bin_size:\n",
    "                hist[i] += 1\n",
    "                break\n",
    "\n",
    "        if value == x_max:\n",
    "            hist[-1] += 1\n",
    "            \n",
    "    \n",
    "    ### END SOLUTION\n",
    "\n",
    "    return hist,bin_edges"
   ]
  },
  {
   "cell_type": "code",
   "execution_count": 29,
   "metadata": {},
   "outputs": [
    {
     "name": "stdout",
     "output_type": "stream",
     "text": [
      "Histogram: [101, 105, 98, 115, 89, 109, 76, 108, 96, 103]\n",
      "Bin Edges: [-9.983669614234358, -7.986265739251188, -5.988861864268018, -3.9914579892848483, -1.9940541143016777, 0.0033497606814929526, 2.000753635664662, 3.9981575106478324, 5.995561385631003, 7.992965260614174, 9.990369135597344]\n"
     ]
    }
   ],
   "source": [
    "# Test your solution here\n",
    "data = generate_uniform(1000, -10, 10)\n",
    "h,b=histogram(data,10)\n",
    "print(\"Histogram:\", h)\n",
    "print(\"Bin Edges:\", b)"
   ]
  },
  {
   "cell_type": "markdown",
   "metadata": {},
   "source": [
    "*Exercise 4:* Write a function that uses the histogram function in the previous exercise to create a text-based \"graph\". For example the output could look like the following:\n",
    "```\n",
    "[  0,  1] : ######\n",
    "[  1,  2] : #####\n",
    "[  2,  3] : ######\n",
    "[  3,  4] : ####\n",
    "[  4,  5] : ####\n",
    "[  5,  6] : ######\n",
    "[  6,  7] : #####\n",
    "[  7,  8] : ######\n",
    "[  8,  9] : ####\n",
    "[  9, 10] : #####\n",
    "```\n",
    "\n",
    "Where each line corresponds to a bin and the number of `#`'s are proportional to the value of the data in the bin. "
   ]
  },
  {
   "cell_type": "code",
   "execution_count": 35,
   "metadata": {},
   "outputs": [],
   "source": [
    "# Solution\n",
    "def draw_histogram(x,n_bins,x_min=None,x_max=None,character=\"#\",max_character_per_line=20):\n",
    "    ### BEGIN SOLUTION\n",
    "\n",
    "    hist, bin_edges = histogram(x, n_bins, x_min, x_max)\n",
    "\n",
    "    max_count = max(hist)\n",
    "\n",
    "    scale_factor = max_character_per_line / max_count if max_count > 0 else 1\n",
    "\n",
    "    for i in range(len(hist)):\n",
    "        bin_range = f\"[{bin_edges[i]:6.2f}, {bin_edges[i + 1]:6.2f}]\"\n",
    "\n",
    "        bar = character * int(hist[i] * scale_factor)\n",
    "\n",
    "        print(f\"{bin_range} : {bar}\")\n",
    "    ### END SOLUTION\n",
    "\n",
    "    return hist,bin_edges"
   ]
  },
  {
   "cell_type": "code",
   "execution_count": 39,
   "metadata": {},
   "outputs": [
    {
     "name": "stdout",
     "output_type": "stream",
     "text": [
      "[ -9.97,  -7.98] : ###################\n",
      "[ -7.98,  -5.98] : #################\n",
      "[ -5.98,  -3.99] : ####################\n",
      "[ -3.99,  -1.99] : ###################\n",
      "[ -1.99,   0.00] : ###############\n",
      "[  0.00,   2.00] : ####################\n",
      "[  2.00,   3.99] : ##################\n",
      "[  3.99,   5.99] : ##################\n",
      "[  5.99,   7.98] : ##################\n",
      "[  7.98,   9.98] : ##############\n"
     ]
    },
    {
     "data": {
      "text/plain": [
       "([105, 97, 110, 109, 85, 110, 100, 102, 100, 82],\n",
       " [-9.974416466862703,\n",
       "  -7.979148745861496,\n",
       "  -5.983881024860289,\n",
       "  -3.9886133038590827,\n",
       "  -1.9933455828578754,\n",
       "  0.001922138143331864,\n",
       "  1.9971898591445374,\n",
       "  3.9924575801457447,\n",
       "  5.987725301146952,\n",
       "  7.9829930221481575,\n",
       "  9.978260743149367])"
      ]
     },
     "execution_count": 39,
     "metadata": {},
     "output_type": "execute_result"
    }
   ],
   "source": [
    "# Test your solution here\n",
    "data = generate_uniform(1000, -10, 10)\n",
    "draw_histogram(data, 10)"
   ]
  },
  {
   "cell_type": "markdown",
   "metadata": {},
   "source": [
    "## Functional Programming\n",
    "\n",
    "*Exercise 5:* Write a function the applies a booling function (that returns true/false) to every element in data, and return a list of indices of elements where the result was true. Use this function to find the indices of entries greater than 0.5. "
   ]
  },
  {
   "cell_type": "code",
   "execution_count": 41,
   "metadata": {},
   "outputs": [],
   "source": [
    "def where(mylist,myfunc):\n",
    "    out= []\n",
    "    \n",
    "    ### BEGIN SOLUTION\n",
    "\n",
    "    for i, value in enumerate(mylist):\n",
    "        if myfunc(value):\n",
    "            out.append(i)\n",
    "    \n",
    "    ### END SOLUTION\n",
    "    \n",
    "    return out"
   ]
  },
  {
   "cell_type": "code",
   "execution_count": 43,
   "metadata": {},
   "outputs": [
    {
     "name": "stdout",
     "output_type": "stream",
     "text": [
      "Indices of values greater than 0.5: [1, 3, 5]\n"
     ]
    }
   ],
   "source": [
    "# Test your solution here\n",
    "data = [0.1, 0.6, 0.4, 0.8, 0.3, 0.9]\n",
    "\n",
    "greater_than_0_5 = lambda x: x > 0.5\n",
    "\n",
    "indices = where(data, greater_than_0_5)\n",
    "print(\"Indices of values greater than 0.5:\", indices)"
   ]
  },
  {
   "cell_type": "markdown",
   "metadata": {},
   "source": [
    "*Exercise 6:* The `inrange(mymin,mymax)` function below returns a function that tests if it's input is between the specified values. Write corresponding functions that test:\n",
    "* Even\n",
    "* Odd\n",
    "* Greater than\n",
    "* Less than\n",
    "* Equal\n",
    "* Divisible by"
   ]
  },
  {
   "cell_type": "code",
   "execution_count": 47,
   "metadata": {},
   "outputs": [
    {
     "name": "stdout",
     "output_type": "stream",
     "text": [
      "True True False False False\n",
      "False False True True False\n",
      "Number of Entries passing F1: 6\n",
      "Number of Entries passing F2: 0\n"
     ]
    }
   ],
   "source": [
    "def in_range(mymin,mymax):\n",
    "    def testrange(x):\n",
    "        return x<mymax and x>=mymin\n",
    "    return testrange\n",
    "\n",
    "# Examples:\n",
    "F1=in_range(0,10)\n",
    "F2=in_range(10,20)\n",
    "\n",
    "# Test of in_range\n",
    "print (F1(0), F1(1), F1(10), F1(15), F1(20))\n",
    "print (F2(0), F2(1), F2(10), F2(15), F2(20))\n",
    "\n",
    "print (\"Number of Entries passing F1:\", len(where(data,F1)))\n",
    "print (\"Number of Entries passing F2:\", len(where(data,F2)))"
   ]
  },
  {
   "cell_type": "code",
   "execution_count": 49,
   "metadata": {},
   "outputs": [],
   "source": [
    "### BEGIN SOLUTION\n",
    "\n",
    "def in_range(mymin, mymax):\n",
    "    def testrange(x):\n",
    "        return x < mymax and x >= mymin\n",
    "    return testrange\n",
    "\n",
    "def even():\n",
    "    def is_even(x):\n",
    "        return x % 2 == 0\n",
    "    return is_even\n",
    "\n",
    "def odd():\n",
    "    def is_odd(x):\n",
    "        return x % 2 != 0\n",
    "    return is_odd\n",
    "\n",
    "def greater_than(value):\n",
    "    def is_greater(x):\n",
    "        return x > value\n",
    "    return is_greater\n",
    "\n",
    "def less_than(value):\n",
    "    def is_less(x):\n",
    "        return x < value\n",
    "    return is_less\n",
    "\n",
    "def equal(value):\n",
    "    def is_equal(x):\n",
    "        return x == value\n",
    "    return is_equal\n",
    "\n",
    "def divisible_by(divisor):\n",
    "    def is_divisible(x):\n",
    "        return x % divisor == 0\n",
    "    return is_divisible\n",
    "        \n",
    "    \n",
    "### END SOLUTION"
   ]
  },
  {
   "cell_type": "code",
   "execution_count": 51,
   "metadata": {},
   "outputs": [
    {
     "name": "stdout",
     "output_type": "stream",
     "text": [
      "True True False False False\n",
      "False False True True False\n",
      "True False\n",
      "False True\n",
      "True False\n",
      "False True\n",
      "True False\n",
      "True False\n"
     ]
    }
   ],
   "source": [
    "# Test your solution\n",
    "\n",
    "F1 = in_range(0, 10)\n",
    "F2 = in_range(10, 20)\n",
    "\n",
    "print(F1(0), F1(1), F1(10), F1(15), F1(20))  \n",
    "print(F2(0), F2(1), F2(10), F2(15), F2(20))  \n",
    "\n",
    "is_even = even()\n",
    "is_odd = odd()\n",
    "print(is_even(2), is_even(3))  \n",
    "print(is_odd(2), is_odd(3))   \n",
    "\n",
    "greater = greater_than(5)\n",
    "less = less_than(5)\n",
    "print(greater(6), greater(4))  \n",
    "print(less(6), less(4))        \n",
    "\n",
    "equals = equal(5)\n",
    "print(equals(5), equals(4))    \n",
    "\n",
    "divisible = divisible_by(3)\n",
    "print(divisible(6), divisible(7))  \n"
   ]
  },
  {
   "cell_type": "markdown",
   "metadata": {},
   "source": [
    "*Exercise 7:* Repeat the previous exercise using `lambda` and the built-in python functions sum and map instead of your solution above. "
   ]
  },
  {
   "cell_type": "code",
   "execution_count": 53,
   "metadata": {},
   "outputs": [],
   "source": [
    "### BEGIN SOLUTION\n",
    "\n",
    "in_range = lambda mymin, mymax: lambda x: mymin <= x < mymax\n",
    "\n",
    "even = lambda: lambda x: x % 2 == 0\n",
    "\n",
    "odd = lambda: lambda x: x % 2 != 0\n",
    "\n",
    "greater_than = lambda value: lambda x: x > value\n",
    "\n",
    "less_than = lambda value: lambda x: x < value\n",
    "\n",
    "equal = lambda value: lambda x: x == value\n",
    "\n",
    "divisible_by = lambda divisor: lambda x: x % divisor == 0\n",
    "     \n",
    "    \n",
    "### END SOLUTION"
   ]
  },
  {
   "cell_type": "code",
   "execution_count": 55,
   "metadata": {},
   "outputs": [
    {
     "name": "stdout",
     "output_type": "stream",
     "text": [
      "[True, True, False, False, False]\n",
      "[False, False, True, True, False]\n",
      "[True, False, True, False]\n",
      "[False, True, False, True]\n",
      "[False, False, True, True]\n",
      "[True, False, False, False]\n",
      "[False, True, False]\n",
      "[True, False, True, False]\n",
      "Count of even numbers: 3\n",
      "Count of odd numbers: 3\n"
     ]
    }
   ],
   "source": [
    "# Test in_range\n",
    "F1 = in_range(0, 10)\n",
    "F2 = in_range(10, 20)\n",
    "\n",
    "print(list(map(F1, [0, 1, 10, 15, 20])))  \n",
    "print(list(map(F2, [0, 1, 10, 15, 20])))  \n",
    "\n",
    "is_even = even()\n",
    "is_odd = odd()\n",
    "print(list(map(is_even, [2, 3, 4, 5])))  \n",
    "print(list(map(is_odd, [2, 3, 4, 5])))   \n",
    "\n",
    "greater = greater_than(5)\n",
    "less = less_than(5)\n",
    "print(list(map(greater, [4, 5, 6, 7])))  \n",
    "print(list(map(less, [4, 5, 6, 7])))     \n",
    "\n",
    "equals = equal(5)\n",
    "print(list(map(equals, [4, 5, 6])))      \n",
    "\n",
    "divisible = divisible_by(3)\n",
    "print(list(map(divisible, [3, 4, 6, 7])))  \n",
    "\n",
    "data = [1, 2, 3, 4, 5, 6]\n",
    "print(\"Count of even numbers:\", sum(map(is_even, data)))  \n",
    "print(\"Count of odd numbers:\", sum(map(is_odd, data))) \n"
   ]
  },
  {
   "cell_type": "markdown",
   "metadata": {},
   "source": [
    "## Monte Carlo\n",
    "\n",
    "*Exercise 7:* Write a \"generator\" function called `generate_function(func,x_min,x_max,N)`, that instead of generating a flat distribution, generates a distribution with functional form coded in `func`. Note that `func` will always be > 0.  \n",
    "\n",
    "Use the test function below and your histogramming functions above to demonstrate that your generator is working properly.\n",
    "\n",
    "Hint: A simple, but slow, solution is to a draw random number `test_x` within the specified range and another number `p` between the `min` and `max` of the function (which you will have to determine). If `p<=function(test_x)`, then place `test_x` on the output. If not, repeat the process, drawing two new numbers. Repeat until you have the specified number of generated numbers, `N`. For this problem, it's OK to determine the `min` and `max` by numerically sampling the function.  "
   ]
  },
  {
   "cell_type": "code",
   "execution_count": 57,
   "metadata": {},
   "outputs": [],
   "source": [
    "def generate_function(func,x_min,x_max,N=1000):\n",
    "    out = list()\n",
    "    ### BEGIN SOLUTION\n",
    "    sample_points = 1000  \n",
    "    x_samples = [x_min + (x_max - x_min) * i / sample_points for i in range(sample_points)]\n",
    "    func_max = max(func(x) for x in x_samples)\n",
    "\n",
    "    while len(out) < N:       \n",
    "        test_x = random.uniform(x_min, x_max)\n",
    "\n",
    "        p = random.uniform(0, func_max)\n",
    "\n",
    "        if p <= func(test_x):\n",
    "            out.append(test_x)\n",
    "            \n",
    "    \n",
    "    ### END SOLUTION\n",
    "    \n",
    "    return out"
   ]
  },
  {
   "cell_type": "code",
   "execution_count": 61,
   "metadata": {},
   "outputs": [
    {
     "name": "stdout",
     "output_type": "stream",
     "text": [
      "[ -9.98,  -7.98] : ##############\n",
      "[ -7.98,  -5.99] : ###########\n",
      "[ -5.99,  -3.99] : #######\n",
      "[ -3.99,  -1.99] : ###\n",
      "[ -1.99,   0.00] : #\n",
      "[  0.00,   2.00] : ###\n",
      "[  2.00,   3.99] : ######\n",
      "[  3.99,   5.99] : #########\n",
      "[  5.99,   7.98] : ###############\n",
      "[  7.98,   9.98] : ####################\n"
     ]
    },
    {
     "data": {
      "text/plain": [
       "([160, 121, 82, 33, 12, 38, 69, 105, 165, 215],\n",
       " [-9.976119993788997,\n",
       "  -7.980702015739728,\n",
       "  -5.985284037690459,\n",
       "  -3.989866059641191,\n",
       "  -1.9944480815919219,\n",
       "  0.0009698964573470192,\n",
       "  1.996387874506615,\n",
       "  3.991805852555885,\n",
       "  5.987223830605153,\n",
       "  7.982641808654423,\n",
       "  9.97805978670369])"
      ]
     },
     "execution_count": 61,
     "metadata": {},
     "output_type": "execute_result"
    }
   ],
   "source": [
    "# A test function\n",
    "def test_func(x,a=1,b=1):\n",
    "    return abs(a*x+b)\n",
    "\n",
    "data = generate_function(lambda x: test_func(x, a=1, b=1), -10, 10, 1000)\n",
    "\n",
    "draw_histogram(data, 10)"
   ]
  },
  {
   "cell_type": "markdown",
   "metadata": {},
   "source": [
    "*Exercise 8:* Use your function to generate 1000 numbers that are normal distributed, using the `gaussian` function below. Confirm the mean and variance of the data is close to the mean and variance you specify when building the Gaussian. Histogram the data. "
   ]
  },
  {
   "cell_type": "code",
   "execution_count": 66,
   "metadata": {},
   "outputs": [],
   "source": [
    "import math\n",
    "\n",
    "def gaussian(mean, sigma):\n",
    "    def f(x):\n",
    "        return math.exp(-((x-mean)**2)/(2*sigma**2))/math.sqrt(math.pi*sigma)\n",
    "    return f\n",
    "\n",
    "def generate_gaussian(mean, sigma, x_min, x_max, N=1000):   \n",
    "    func = gaussian(mean, sigma)\n",
    "\n",
    "    data = generate_function(func, x_min, x_max, N)\n",
    "    return data"
   ]
  },
  {
   "cell_type": "code",
   "execution_count": 68,
   "metadata": {},
   "outputs": [
    {
     "name": "stdout",
     "output_type": "stream",
     "text": [
      "Data 1 Mean: -0.060268289944595016\n",
      "Data 1 Variance: -1.5987211554602253e-17\n",
      "Data 2 Mean: 9.987292991157778\n",
      "Data 2 Variance: -5.782041512247815e-16\n",
      "\n",
      "Histogram for Data 1:\n",
      "[ -3.26,  -2.63] : \n",
      "[ -2.63,  -1.99] : \n",
      "[ -1.99,  -1.36] : ######\n",
      "[ -1.36,  -0.73] : ############\n",
      "[ -0.73,  -0.09] : ####################\n",
      "[ -0.09,   0.54] : ###################\n",
      "[  0.54,   1.18] : ##############\n",
      "[  1.18,   1.81] : ######\n",
      "[  1.81,   2.44] : ##\n",
      "[  2.44,   3.08] : \n",
      "\n",
      "Histogram for Data 2:\n",
      "[  1.02,   2.77] : \n",
      "[  2.77,   4.52] : #\n",
      "[  4.52,   6.27] : #####\n",
      "[  6.27,   8.02] : #############\n",
      "[  8.02,   9.77] : #################\n",
      "[  9.77,  11.52] : ####################\n",
      "[ 11.52,  13.27] : ###############\n",
      "[ 13.27,  15.02] : ######\n",
      "[ 15.02,  16.77] : ##\n",
      "[ 16.77,  18.52] : \n"
     ]
    },
    {
     "data": {
      "text/plain": [
       "([7, 21, 67, 156, 204, 239, 186, 78, 33, 9],\n",
       " [1.0240741516027363,\n",
       "  2.7740241436800566,\n",
       "  4.523974135757377,\n",
       "  6.273924127834697,\n",
       "  8.023874119912017,\n",
       "  9.773824111989338,\n",
       "  11.523774104066657,\n",
       "  13.273724096143978,\n",
       "  15.023674088221298,\n",
       "  16.773624080298617,\n",
       "  18.52357407237594])"
      ]
     },
     "execution_count": 68,
     "metadata": {},
     "output_type": "execute_result"
    }
   ],
   "source": [
    "# Example Instantiation\n",
    "g1=gaussian(0,1)\n",
    "g2=gaussian(10,3)\n",
    "\n",
    "data1 = generate_gaussian(0, 1, -5, 5, 1000)  \n",
    "data2 = generate_gaussian(10, 3, 0, 20, 1000)  \n",
    "\n",
    "# Confirm mean and variance\n",
    "print(\"Data 1 Mean:\", mean(data1))\n",
    "print(\"Data 1 Variance:\", variance(data1))\n",
    "print(\"Data 2 Mean:\", mean(data2))\n",
    "print(\"Data 2 Variance:\", variance(data2))\n",
    "\n",
    "print(\"\\nHistogram for Data 1:\")\n",
    "draw_histogram(data1, 10)\n",
    "\n",
    "print(\"\\nHistogram for Data 2:\")\n",
    "draw_histogram(data2, 10)"
   ]
  },
  {
   "cell_type": "markdown",
   "metadata": {},
   "source": [
    "*Exercise 9:* Combine your `generate_function`, `where`, and `in_range` functions above to create an integrate function. Use your integrate function to show that approximately 68% of Normal distribution is within one variance."
   ]
  },
  {
   "cell_type": "code",
   "execution_count": 70,
   "metadata": {},
   "outputs": [],
   "source": [
    "def integrate(func, x_min, x_max, n_points=1000):\n",
    "\n",
    "    random_x = [random.uniform(x_min, x_max) for _ in range(n_points)]\n",
    " \n",
    "    func_values = [func(x) for x in random_x]\n",
    "    average_value = sum(func_values) / n_points\n",
    "\n",
    "    integral = average_value * (x_max - x_min)\n",
    "\n",
    "    \n",
    "    return integral"
   ]
  },
  {
   "cell_type": "code",
   "execution_count": 72,
   "metadata": {},
   "outputs": [
    {
     "name": "stdout",
     "output_type": "stream",
     "text": [
      "Total Area: 1.4251191113287611\n",
      "Area Within One Sigma: 0.9666845021580986\n",
      "Percentage Within One Sigma: 67.83%\n"
     ]
    }
   ],
   "source": [
    "g = gaussian(0, 1) \n",
    "\n",
    "total_area = integrate(g, -5, 5, n_points=10000)  \n",
    "\n",
    "area_within_one_sigma = integrate(g, -1, 1, n_points=10000)\n",
    "\n",
    "percentage_within_one_sigma = (area_within_one_sigma / total_area) * 100\n",
    "\n",
    "print(f\"Total Area: {total_area}\")\n",
    "print(f\"Area Within One Sigma: {area_within_one_sigma}\")\n",
    "print(f\"Percentage Within One Sigma: {percentage_within_one_sigma:.2f}%\")\n"
   ]
  },
  {
   "cell_type": "code",
   "execution_count": null,
   "metadata": {},
   "outputs": [],
   "source": []
  }
 ],
 "metadata": {
  "kernelspec": {
   "display_name": "Python [conda env:base] *",
   "language": "python",
   "name": "conda-base-py"
  },
  "language_info": {
   "codemirror_mode": {
    "name": "ipython",
    "version": 3
   },
   "file_extension": ".py",
   "mimetype": "text/x-python",
   "name": "python",
   "nbconvert_exporter": "python",
   "pygments_lexer": "ipython3",
   "version": "3.12.7"
  }
 },
 "nbformat": 4,
 "nbformat_minor": 4
}
